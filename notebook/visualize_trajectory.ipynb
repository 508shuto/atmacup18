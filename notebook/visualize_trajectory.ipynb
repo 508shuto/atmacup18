{
 "cells": [
  {
   "cell_type": "code",
   "execution_count": 1,
   "id": "113ee4d4-4ebd-4a5f-8d64-dfc0fd291248",
   "metadata": {
    "tags": []
   },
   "outputs": [],
   "source": [
    "# ライブラリのインストールが必要な場合\n",
    "# !pip install opencv-python-headless\n",
    "# !pip install matplotlib\n",
    "# !pip install numpy\n",
    "# !pip install pillow"
   ]
  },
  {
   "cell_type": "code",
   "execution_count": 1,
   "id": "499ae518-8a9d-47b8-b50a-730af69c5265",
   "metadata": {
    "tags": []
   },
   "outputs": [],
   "source": [
    "import json\n",
    "import os\n",
    "from pathlib import Path\n",
    "\n",
    "import cv2\n",
    "import matplotlib.pyplot as plt\n",
    "import numpy as np\n",
    "\n",
    "from PIL import Image"
   ]
  },
  {
   "cell_type": "code",
   "execution_count": 2,
   "id": "0d24d088-07e2-4661-81ce-990aac8c1f08",
   "metadata": {
    "tags": []
   },
   "outputs": [],
   "source": [
    "def camera_to_image(P_camera, intrinsic_matrix):\n",
    "    P_image_homogeneous = np.dot(intrinsic_matrix, P_camera)\n",
    "    P_image = P_image_homogeneous[:2] / P_image_homogeneous[2]\n",
    "    return P_image"
   ]
  },
  {
   "cell_type": "code",
   "execution_count": 3,
   "id": "f115deb9-6b80-4204-86a3-3118c52d5427",
   "metadata": {
    "tags": []
   },
   "outputs": [],
   "source": [
    "# 変更しないでください\n",
    "intrinsic_matrix = np.array([[226.16438356, 0., 63.62426614],\n",
    "                             [0., 224.82352941, 11.76],\n",
    "                             [0., 0., 1.]])"
   ]
  },
  {
   "cell_type": "code",
   "execution_count": null,
   "id": "ce72ea70",
   "metadata": {},
   "outputs": [],
   "source": [
    "import polars as pl\n",
    "from PIL import Image\n",
    "\n",
    "df = pl.read_csv(constants.DATA_DIR / \"train_features.csv\")\n",
    "sample_id = \"7a36f9391f1e82a094e76118a99a08fa_120\"\n",
    "images_dir = ... # path/to/images dir\n",
    "target_cols = ... # x_0, y_0, z_0, ...\n",
    "image = Image.open(images_dir / sample_id / \"image_t.png\")\n",
    "trajectory = (\n",
    "    df.filter(pl.col(\"ID\") == sample_id)[target_cols]\n",
    "    .transpose(include_header=True)\n",
    "    .rename({\"column\": \"coordinate\", \"column_0\": \"value\"})\n",
    "    .with_columns(\n",
    "        axis=pl.col(\"coordinate\").str.extract(r\"([xyz])\"),\n",
    "        number=pl.col(\"coordinate\").str.extract(r\"(\\d+)$\").cast(pl.Int32),\n",
    "    )\n",
    "    .pivot(index=\"number\", on=\"axis\", values=\"value\")\n",
    "    .sort(\"number\")\n",
    "    .to_numpy()[:, 1:]\n",
    ")\n",
    "print(trajectory)"
   ]
  },
  {
   "cell_type": "code",
   "execution_count": 5,
   "id": "69ac18c2-d008-4d0b-92ab-43cd21a4679b",
   "metadata": {
    "tags": []
   },
   "outputs": [],
   "source": [
    "# 適宜変えてください\n",
    "sample_id = \"7a36f9391f1e82a094e76118a99a08fa_120\"\n",
    "\n",
    "images_dir = Path(\"../dataset/images/\")\n",
    "image = Image.open(images_dir / sample_id / \"image_t.png\")\n",
    "\n",
    "trajectory_dir = Path(\"../dataset/train/target\")\n",
    "trajectory = np.load(trajectory_dir / f\"{sample_id}.npy\")"
   ]
  },
  {
   "cell_type": "code",
   "execution_count": 6,
   "id": "0d582892-feff-4863-90b3-b85227e915fd",
   "metadata": {
    "tags": []
   },
   "outputs": [],
   "source": [
    "def project_trajectory_to_image_coordinate_system(trajectory: np.ndarray, intrinsic_matrix: np.ndarray):\n",
    "    \"\"\"車両中心座標系で表現されたtrajectoryをカメラ座標系に投影する\"\"\"\n",
    "    # カメラの設置されている高さ(1.22m)まで座標系をズラす\n",
    "    trajectory_with_offset = trajectory.copy()\n",
    "    trajectory_with_offset[:, 2] = trajectory_with_offset[:, 2] + 1.22\n",
    "\n",
    "    # 座標の取り方を変更する\n",
    "    road_to_camera = np.array([[0, 0, 1], [-1, 0, 0], [0, 1, 0]])\n",
    "    trajectory_camera = trajectory_with_offset @ road_to_camera\n",
    "    trajectory_image = np.array([camera_to_image(p, intrinsic_matrix) for p in trajectory_camera if p[2] > 0])\n",
    "    return trajectory_image\n",
    "\n",
    "\n",
    "def overlay_trajectory(trajectory: np.ndarray, image: Image.Image, intrinsic_matrix: np.ndarray, figsize=(5.12, 2.56)):\n",
    "    fig, ax = plt.subplots(figsize=figsize)\n",
    "    plt.subplots_adjust(left=0, right=1, bottom=0, top=1)\n",
    "    ax.set_axis_off()\n",
    "    ax.imshow(image)\n",
    "\n",
    "    trajectory_image = project_trajectory_to_image_coordinate_system(trajectory, intrinsic_matrix)\n",
    "    ax.plot(\n",
    "        trajectory_image[:, 0],\n",
    "        trajectory_image[:, 1],\n",
    "        marker=\"o\",\n",
    "        color=\"forestgreen\",\n",
    "        alpha=1.0,\n",
    "        markersize=3,\n",
    "        linestyle=\"solid\",\n",
    "    )\n",
    "    ax.set_xlim(0, 128)\n",
    "    ax.set_ylim(64, 0)\n",
    "    plt.show()"
   ]
  },
  {
   "cell_type": "code",
   "execution_count": 7,
   "id": "33869be8-d366-4249-ac1d-493f61dc3dbf",
   "metadata": {
    "tags": []
   },
   "outputs": [
    {
     "data": {
      "image/png": "[encoded data removed]",
      "text/plain": [
       "<Figure size 512x256 with 1 Axes>"
      ]
     },
     "metadata": {},
     "output_type": "display_data"
    }
   ],
   "source": [
    "overlay_trajectory(trajectory, image, intrinsic_matrix)"
   ]
  },
  {
   "cell_type": "code",
   "execution_count": null,
   "id": "47c7a860-e1d8-4a34-b339-09f75ea469ee",
   "metadata": {},
   "outputs": [],
   "source": []
  }
 ],
 "metadata": {
  "environment": {
   "kernel": "conda-base-py",
   "name": "workbench-notebooks.m124",
   "type": "gcloud",
   "uri": "us-docker.pkg.dev/deeplearning-platform-release/gcr.io/workbench-notebooks:m124"
  },
  "kernelspec": {
   "display_name": ".venv",
   "language": "python",
   "name": "python3"
  },
  "language_info": {
   "codemirror_mode": {
    "name": "ipython",
    "version": 3
   },
   "file_extension": ".py",
   "mimetype": "text/x-python",
   "name": "python",
   "nbconvert_exporter": "python",
   "pygments_lexer": "ipython3",
   "version": "3.10.14"
  }
 },
 "nbformat": 4,
 "nbformat_minor": 5
}
