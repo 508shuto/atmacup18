{
 "cells": [
  {
   "cell_type": "code",
   "execution_count": 1,
   "metadata": {},
   "outputs": [],
   "source": [
    "import pandas as pd"
   ]
  },
  {
   "cell_type": "code",
   "execution_count": 2,
   "metadata": {},
   "outputs": [
    {
     "name": "stdout",
     "output_type": "stream",
     "text": [
      "(1727, 18) (1727, 18) (1727, 18)\n"
     ]
    }
   ],
   "source": [
    "df1 = pd.read_csv('/Users/gouyashuto/localrepository/atmacup18/output/004_LightGBM_Baseline_0.2119_submission.csv')\n",
    "df2 = pd.read_csv('/Users/gouyashuto/localrepository/atmacup18/output/000_NN_NoImage_0.2501_submission.csv')\n",
    "df3 = pd.read_csv('/Users/gouyashuto/localrepository/atmacup18/output/000_stacking_0.2063_submission.csv')\n",
    "print(df1.shape, df2.shape, df3.shape)"
   ]
  },
  {
   "cell_type": "code",
   "execution_count": 3,
   "metadata": {},
   "outputs": [
    {
     "data": {
      "text/plain": [
       "(1727, 18)"
      ]
     },
     "execution_count": 3,
     "metadata": {},
     "output_type": "execute_result"
    }
   ],
   "source": [
    "# 2つのsubmissionの荷重平均をとる\n",
    "submission = 0.1 * df1 + 0.1 * df2 + 0.8 * df3\n",
    "submission.shape"
   ]
  },
  {
   "cell_type": "code",
   "execution_count": 4,
   "metadata": {},
   "outputs": [
    {
     "data": {
      "text/html": [
       "<div>\n",
       "<style scoped>\n",
       "    .dataframe tbody tr th:only-of-type {\n",
       "        vertical-align: middle;\n",
       "    }\n",
       "\n",
       "    .dataframe tbody tr th {\n",
       "        vertical-align: top;\n",
       "    }\n",
       "\n",
       "    .dataframe thead th {\n",
       "        text-align: right;\n",
       "    }\n",
       "</style>\n",
       "<table border=\"1\" class=\"dataframe\">\n",
       "  <thead>\n",
       "    <tr style=\"text-align: right;\">\n",
       "      <th></th>\n",
       "      <th>x_0</th>\n",
       "      <th>y_0</th>\n",
       "      <th>z_0</th>\n",
       "      <th>x_1</th>\n",
       "      <th>y_1</th>\n",
       "      <th>z_1</th>\n",
       "      <th>x_2</th>\n",
       "      <th>y_2</th>\n",
       "      <th>z_2</th>\n",
       "      <th>x_3</th>\n",
       "      <th>y_3</th>\n",
       "      <th>z_3</th>\n",
       "      <th>x_4</th>\n",
       "      <th>y_4</th>\n",
       "      <th>z_4</th>\n",
       "      <th>x_5</th>\n",
       "      <th>y_5</th>\n",
       "      <th>z_5</th>\n",
       "    </tr>\n",
       "  </thead>\n",
       "  <tbody>\n",
       "    <tr>\n",
       "      <th>0</th>\n",
       "      <td>1.470437</td>\n",
       "      <td>-0.051258</td>\n",
       "      <td>0.002277</td>\n",
       "      <td>3.032276</td>\n",
       "      <td>-0.106024</td>\n",
       "      <td>0.005545</td>\n",
       "      <td>4.530678</td>\n",
       "      <td>-0.148683</td>\n",
       "      <td>0.006866</td>\n",
       "      <td>5.939310</td>\n",
       "      <td>-0.166917</td>\n",
       "      <td>0.008522</td>\n",
       "      <td>7.404218</td>\n",
       "      <td>-0.148415</td>\n",
       "      <td>0.008684</td>\n",
       "      <td>8.744180</td>\n",
       "      <td>-0.042467</td>\n",
       "      <td>0.004670</td>\n",
       "    </tr>\n",
       "    <tr>\n",
       "      <th>1</th>\n",
       "      <td>0.939664</td>\n",
       "      <td>0.375028</td>\n",
       "      <td>-0.002345</td>\n",
       "      <td>1.756018</td>\n",
       "      <td>0.985676</td>\n",
       "      <td>0.001708</td>\n",
       "      <td>2.425694</td>\n",
       "      <td>1.648458</td>\n",
       "      <td>0.003195</td>\n",
       "      <td>3.004107</td>\n",
       "      <td>2.487059</td>\n",
       "      <td>0.011024</td>\n",
       "      <td>3.622814</td>\n",
       "      <td>3.564810</td>\n",
       "      <td>0.011564</td>\n",
       "      <td>4.256102</td>\n",
       "      <td>4.738645</td>\n",
       "      <td>0.028546</td>\n",
       "    </tr>\n",
       "    <tr>\n",
       "      <th>2</th>\n",
       "      <td>1.594409</td>\n",
       "      <td>0.014456</td>\n",
       "      <td>-0.000257</td>\n",
       "      <td>3.293693</td>\n",
       "      <td>0.021324</td>\n",
       "      <td>-0.001843</td>\n",
       "      <td>4.934278</td>\n",
       "      <td>0.005420</td>\n",
       "      <td>-0.004226</td>\n",
       "      <td>6.367105</td>\n",
       "      <td>-0.013893</td>\n",
       "      <td>-0.005557</td>\n",
       "      <td>7.912329</td>\n",
       "      <td>-0.025378</td>\n",
       "      <td>-0.011000</td>\n",
       "      <td>9.367629</td>\n",
       "      <td>-0.073108</td>\n",
       "      <td>-0.012170</td>\n",
       "    </tr>\n",
       "    <tr>\n",
       "      <th>3</th>\n",
       "      <td>0.827538</td>\n",
       "      <td>0.068341</td>\n",
       "      <td>-0.006240</td>\n",
       "      <td>1.662704</td>\n",
       "      <td>0.194698</td>\n",
       "      <td>-0.011193</td>\n",
       "      <td>2.453071</td>\n",
       "      <td>0.390632</td>\n",
       "      <td>-0.018424</td>\n",
       "      <td>3.100391</td>\n",
       "      <td>0.740387</td>\n",
       "      <td>-0.026226</td>\n",
       "      <td>3.768404</td>\n",
       "      <td>1.274964</td>\n",
       "      <td>-0.038525</td>\n",
       "      <td>4.479438</td>\n",
       "      <td>1.938090</td>\n",
       "      <td>-0.050112</td>\n",
       "    </tr>\n",
       "    <tr>\n",
       "      <th>4</th>\n",
       "      <td>0.811369</td>\n",
       "      <td>0.003551</td>\n",
       "      <td>-0.002790</td>\n",
       "      <td>1.421621</td>\n",
       "      <td>-0.004515</td>\n",
       "      <td>-0.011654</td>\n",
       "      <td>1.888438</td>\n",
       "      <td>-0.012632</td>\n",
       "      <td>-0.017526</td>\n",
       "      <td>2.211072</td>\n",
       "      <td>-0.001219</td>\n",
       "      <td>-0.026106</td>\n",
       "      <td>2.058831</td>\n",
       "      <td>0.004704</td>\n",
       "      <td>-0.041274</td>\n",
       "      <td>1.629488</td>\n",
       "      <td>0.005918</td>\n",
       "      <td>-0.056595</td>\n",
       "    </tr>\n",
       "  </tbody>\n",
       "</table>\n",
       "</div>"
      ],
      "text/plain": [
       "        x_0       y_0       z_0       x_1       y_1       z_1       x_2  \\\n",
       "0  1.470437 -0.051258  0.002277  3.032276 -0.106024  0.005545  4.530678   \n",
       "1  0.939664  0.375028 -0.002345  1.756018  0.985676  0.001708  2.425694   \n",
       "2  1.594409  0.014456 -0.000257  3.293693  0.021324 -0.001843  4.934278   \n",
       "3  0.827538  0.068341 -0.006240  1.662704  0.194698 -0.011193  2.453071   \n",
       "4  0.811369  0.003551 -0.002790  1.421621 -0.004515 -0.011654  1.888438   \n",
       "\n",
       "        y_2       z_2       x_3       y_3       z_3       x_4       y_4  \\\n",
       "0 -0.148683  0.006866  5.939310 -0.166917  0.008522  7.404218 -0.148415   \n",
       "1  1.648458  0.003195  3.004107  2.487059  0.011024  3.622814  3.564810   \n",
       "2  0.005420 -0.004226  6.367105 -0.013893 -0.005557  7.912329 -0.025378   \n",
       "3  0.390632 -0.018424  3.100391  0.740387 -0.026226  3.768404  1.274964   \n",
       "4 -0.012632 -0.017526  2.211072 -0.001219 -0.026106  2.058831  0.004704   \n",
       "\n",
       "        z_4       x_5       y_5       z_5  \n",
       "0  0.008684  8.744180 -0.042467  0.004670  \n",
       "1  0.011564  4.256102  4.738645  0.028546  \n",
       "2 -0.011000  9.367629 -0.073108 -0.012170  \n",
       "3 -0.038525  4.479438  1.938090 -0.050112  \n",
       "4 -0.041274  1.629488  0.005918 -0.056595  "
      ]
     },
     "execution_count": 4,
     "metadata": {},
     "output_type": "execute_result"
    }
   ],
   "source": [
    "submission.to_csv('/Users/gouyashuto/localrepository/atmacup18/output/003_ensemble_submission.csv', index=False)\n",
    "submission.head()"
   ]
  },
  {
   "cell_type": "code",
   "execution_count": null,
   "metadata": {},
   "outputs": [],
   "source": []
  }
 ],
 "metadata": {
  "kernelspec": {
   "display_name": ".venv",
   "language": "python",
   "name": "python3"
  },
  "language_info": {
   "codemirror_mode": {
    "name": "ipython",
    "version": 3
   },
   "file_extension": ".py",
   "mimetype": "text/x-python",
   "name": "python",
   "nbconvert_exporter": "python",
   "pygments_lexer": "ipython3",
   "version": "3.10.14"
  }
 },
 "nbformat": 4,
 "nbformat_minor": 2
}
