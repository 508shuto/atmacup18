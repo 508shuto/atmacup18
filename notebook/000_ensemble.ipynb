{
 "cells": [
  {
   "cell_type": "code",
   "execution_count": 1,
   "metadata": {},
   "outputs": [],
   "source": [
    "import pandas as pd"
   ]
  },
  {
   "cell_type": "code",
   "execution_count": 4,
   "metadata": {},
   "outputs": [
    {
     "name": "stdout",
     "output_type": "stream",
     "text": [
      "(1727, 18) (1727, 18)\n"
     ]
    }
   ],
   "source": [
    "df1 = pd.read_csv('/Users/gouyashuto/localrepository/atmacup18/output/004_LightGBM_Baseline_0.2119_submission.csv')\n",
    "df2 = pd.read_csv('/Users/gouyashuto/localrepository/atmacup18/output/000_NN_NoImage_0.2501_submission.csv')\n",
    "print(df1.shape, df2.shape)"
   ]
  },
  {
   "cell_type": "code",
   "execution_count": 3,
   "metadata": {},
   "outputs": [
    {
     "data": {
      "text/plain": [
       "(1727, 18)"
      ]
     },
     "execution_count": 3,
     "metadata": {},
     "output_type": "execute_result"
    }
   ],
   "source": [
    "# 2つのsubmissionの平均を取る\n",
    "submission = (df1 + df2) / 2\n",
    "submission.shape"
   ]
  },
  {
   "cell_type": "code",
   "execution_count": 5,
   "metadata": {},
   "outputs": [
    {
     "data": {
      "text/html": [
       "<div>\n",
       "<style scoped>\n",
       "    .dataframe tbody tr th:only-of-type {\n",
       "        vertical-align: middle;\n",
       "    }\n",
       "\n",
       "    .dataframe tbody tr th {\n",
       "        vertical-align: top;\n",
       "    }\n",
       "\n",
       "    .dataframe thead th {\n",
       "        text-align: right;\n",
       "    }\n",
       "</style>\n",
       "<table border=\"1\" class=\"dataframe\">\n",
       "  <thead>\n",
       "    <tr style=\"text-align: right;\">\n",
       "      <th></th>\n",
       "      <th>x_0</th>\n",
       "      <th>y_0</th>\n",
       "      <th>z_0</th>\n",
       "      <th>x_1</th>\n",
       "      <th>y_1</th>\n",
       "      <th>z_1</th>\n",
       "      <th>x_2</th>\n",
       "      <th>y_2</th>\n",
       "      <th>z_2</th>\n",
       "      <th>x_3</th>\n",
       "      <th>y_3</th>\n",
       "      <th>z_3</th>\n",
       "      <th>x_4</th>\n",
       "      <th>y_4</th>\n",
       "      <th>z_4</th>\n",
       "      <th>x_5</th>\n",
       "      <th>y_5</th>\n",
       "      <th>z_5</th>\n",
       "    </tr>\n",
       "  </thead>\n",
       "  <tbody>\n",
       "    <tr>\n",
       "      <th>0</th>\n",
       "      <td>1.497687</td>\n",
       "      <td>-0.045343</td>\n",
       "      <td>0.000898</td>\n",
       "      <td>3.127021</td>\n",
       "      <td>-0.108485</td>\n",
       "      <td>0.004127</td>\n",
       "      <td>4.694875</td>\n",
       "      <td>-0.147090</td>\n",
       "      <td>0.000840</td>\n",
       "      <td>6.143398</td>\n",
       "      <td>-0.162788</td>\n",
       "      <td>-0.003467</td>\n",
       "      <td>7.633279</td>\n",
       "      <td>-0.114571</td>\n",
       "      <td>-0.000789</td>\n",
       "      <td>9.045784</td>\n",
       "      <td>-0.007610</td>\n",
       "      <td>-0.002827</td>\n",
       "    </tr>\n",
       "    <tr>\n",
       "      <th>1</th>\n",
       "      <td>0.935380</td>\n",
       "      <td>0.356516</td>\n",
       "      <td>-0.006197</td>\n",
       "      <td>1.751549</td>\n",
       "      <td>0.912671</td>\n",
       "      <td>0.009550</td>\n",
       "      <td>2.460569</td>\n",
       "      <td>1.647870</td>\n",
       "      <td>-0.003431</td>\n",
       "      <td>2.958487</td>\n",
       "      <td>2.440560</td>\n",
       "      <td>0.004404</td>\n",
       "      <td>3.679197</td>\n",
       "      <td>3.354126</td>\n",
       "      <td>-0.008133</td>\n",
       "      <td>4.324338</td>\n",
       "      <td>4.304115</td>\n",
       "      <td>0.018309</td>\n",
       "    </tr>\n",
       "    <tr>\n",
       "      <th>2</th>\n",
       "      <td>1.610389</td>\n",
       "      <td>0.026604</td>\n",
       "      <td>0.002193</td>\n",
       "      <td>3.292447</td>\n",
       "      <td>0.042625</td>\n",
       "      <td>0.005258</td>\n",
       "      <td>4.932783</td>\n",
       "      <td>0.062146</td>\n",
       "      <td>0.004284</td>\n",
       "      <td>6.364238</td>\n",
       "      <td>0.078344</td>\n",
       "      <td>0.004275</td>\n",
       "      <td>7.778502</td>\n",
       "      <td>0.132689</td>\n",
       "      <td>0.008961</td>\n",
       "      <td>9.009437</td>\n",
       "      <td>0.184978</td>\n",
       "      <td>-0.002391</td>\n",
       "    </tr>\n",
       "    <tr>\n",
       "      <th>3</th>\n",
       "      <td>0.853872</td>\n",
       "      <td>0.073452</td>\n",
       "      <td>-0.005172</td>\n",
       "      <td>1.686571</td>\n",
       "      <td>0.204029</td>\n",
       "      <td>0.002892</td>\n",
       "      <td>2.450394</td>\n",
       "      <td>0.445470</td>\n",
       "      <td>-0.004660</td>\n",
       "      <td>3.035713</td>\n",
       "      <td>0.716622</td>\n",
       "      <td>-0.001000</td>\n",
       "      <td>3.651566</td>\n",
       "      <td>1.194659</td>\n",
       "      <td>-0.005823</td>\n",
       "      <td>4.203566</td>\n",
       "      <td>1.717438</td>\n",
       "      <td>-0.014681</td>\n",
       "    </tr>\n",
       "    <tr>\n",
       "      <th>4</th>\n",
       "      <td>0.781637</td>\n",
       "      <td>0.007463</td>\n",
       "      <td>-0.004641</td>\n",
       "      <td>1.332322</td>\n",
       "      <td>0.008864</td>\n",
       "      <td>-0.015868</td>\n",
       "      <td>1.711440</td>\n",
       "      <td>0.011628</td>\n",
       "      <td>-0.028352</td>\n",
       "      <td>1.922909</td>\n",
       "      <td>0.010802</td>\n",
       "      <td>-0.036445</td>\n",
       "      <td>1.861231</td>\n",
       "      <td>0.013095</td>\n",
       "      <td>-0.054877</td>\n",
       "      <td>1.555796</td>\n",
       "      <td>0.003312</td>\n",
       "      <td>-0.067301</td>\n",
       "    </tr>\n",
       "  </tbody>\n",
       "</table>\n",
       "</div>"
      ],
      "text/plain": [
       "        x_0       y_0       z_0       x_1       y_1       z_1       x_2  \\\n",
       "0  1.497687 -0.045343  0.000898  3.127021 -0.108485  0.004127  4.694875   \n",
       "1  0.935380  0.356516 -0.006197  1.751549  0.912671  0.009550  2.460569   \n",
       "2  1.610389  0.026604  0.002193  3.292447  0.042625  0.005258  4.932783   \n",
       "3  0.853872  0.073452 -0.005172  1.686571  0.204029  0.002892  2.450394   \n",
       "4  0.781637  0.007463 -0.004641  1.332322  0.008864 -0.015868  1.711440   \n",
       "\n",
       "        y_2       z_2       x_3       y_3       z_3       x_4       y_4  \\\n",
       "0 -0.147090  0.000840  6.143398 -0.162788 -0.003467  7.633279 -0.114571   \n",
       "1  1.647870 -0.003431  2.958487  2.440560  0.004404  3.679197  3.354126   \n",
       "2  0.062146  0.004284  6.364238  0.078344  0.004275  7.778502  0.132689   \n",
       "3  0.445470 -0.004660  3.035713  0.716622 -0.001000  3.651566  1.194659   \n",
       "4  0.011628 -0.028352  1.922909  0.010802 -0.036445  1.861231  0.013095   \n",
       "\n",
       "        z_4       x_5       y_5       z_5  \n",
       "0 -0.000789  9.045784 -0.007610 -0.002827  \n",
       "1 -0.008133  4.324338  4.304115  0.018309  \n",
       "2  0.008961  9.009437  0.184978 -0.002391  \n",
       "3 -0.005823  4.203566  1.717438 -0.014681  \n",
       "4 -0.054877  1.555796  0.003312 -0.067301  "
      ]
     },
     "execution_count": 5,
     "metadata": {},
     "output_type": "execute_result"
    }
   ],
   "source": [
    "submission.to_csv('/Users/gouyashuto/localrepository/atmacup18/output/000_ensemble_submission.csv', index=False)\n",
    "submission.head()"
   ]
  },
  {
   "cell_type": "code",
   "execution_count": null,
   "metadata": {},
   "outputs": [],
   "source": []
  }
 ],
 "metadata": {
  "kernelspec": {
   "display_name": ".venv",
   "language": "python",
   "name": "python3"
  },
  "language_info": {
   "codemirror_mode": {
    "name": "ipython",
    "version": 3
   },
   "file_extension": ".py",
   "mimetype": "text/x-python",
   "name": "python",
   "nbconvert_exporter": "python",
   "pygments_lexer": "ipython3",
   "version": "3.10.14"
  }
 },
 "nbformat": 4,
 "nbformat_minor": 2
}
