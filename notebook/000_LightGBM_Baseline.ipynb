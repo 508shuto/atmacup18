{
 "cells": [
  {
   "cell_type": "code",
   "execution_count": 1,
   "metadata": {},
   "outputs": [],
   "source": [
    "from pathlib import Path\n",
    "\n",
    "import polars as pl\n",
    "import pandas as pd\n",
    "import numpy as np\n",
    "\n",
    "from sklearn.model_selection import GroupKFold\n",
    "from sklearn.preprocessing import OrdinalEncoder\n",
    "\n",
    "import lightgbm as lgb"
   ]
  },
  {
   "cell_type": "code",
   "execution_count": 15,
   "metadata": {},
   "outputs": [],
   "source": [
    "exp_name = '000_LightGBM_Baseline'"
   ]
  },
  {
   "cell_type": "code",
   "execution_count": 16,
   "metadata": {},
   "outputs": [],
   "source": [
    "DATA_PATH = Path('/Users/gouyashuto/localrepository/atmacup18/input')\n",
    "OUTPUT_DIR = Path('/Users/gouyashuto/localrepository/atmacup18/output')"
   ]
  },
  {
   "cell_type": "code",
   "execution_count": 3,
   "metadata": {},
   "outputs": [
    {
     "name": "stdout",
     "output_type": "stream",
     "text": [
      "(43371, 30)\n",
      "(1727, 12)\n"
     ]
    }
   ],
   "source": [
    "train_df = pl.read_csv(DATA_PATH / 'train_features.csv')\n",
    "test_df = pl.read_csv(DATA_PATH / 'test_features.csv')\n",
    "\n",
    "print(train_df.shape)\n",
    "print(test_df.shape)"
   ]
  },
  {
   "cell_type": "code",
   "execution_count": 4,
   "metadata": {},
   "outputs": [],
   "source": [
    "CAT_COLS = ['gearShifter', 'scene']\n",
    "\n",
    "TARGET_COLS = [\n",
    "    'x_0', 'y_0', 'z_0',\n",
    "    'x_1', 'y_1', 'z_1',\n",
    "    'x_2', 'y_2', 'z_2',\n",
    "    'x_3', 'y_3', 'z_3',\n",
    "    'x_4', 'y_4', 'z_4',\n",
    "    'x_5', 'y_5', 'z_5'\n",
    "]"
   ]
  },
  {
   "cell_type": "code",
   "execution_count": 5,
   "metadata": {},
   "outputs": [],
   "source": [
    "def preprocess(df):\n",
    "    df = (\n",
    "        df\n",
    "        .with_columns(\n",
    "            scene = pl.col('ID').str.split('_').list[0],\n",
    "            decisecond = pl.col('ID').str.split('_').list[1].cast(pl.Int32),\n",
    "        )\n",
    "        .sort(['scene', 'decisecond'])\n",
    "    )\n",
    "    return df"
   ]
  },
  {
   "cell_type": "code",
   "execution_count": null,
   "metadata": {},
   "outputs": [],
   "source": [
    "def train(X: pd.DataFrame, y: pd.DataFrame, target: str):\n",
    "    lgb_params = {\n",
    "        'objective': 'regression',\n",
    "        'metric': 'mae',\n",
    "        'learning_rate': 0.01,\n",
    "        'verbosity': -1,\n",
    "        'boosting_type': 'gbdt',\n",
    "    }\n",
    "    gkf = GroupKFold(n_splits=5)\n",
    "    groups = X['scene']\n",
    "\n",
    "    models = []\n",
    "    oof = np.zeros(len(X))\n",
    "    for fold, (train_idx, valid_idx) in enumerate(gkf.split(X, y[target], groups=groups)):\n",
    "        print('=' * 10, f'fold: {fold} start' + '=' * 10)\n",
    "        train_X = X.iloc[train_idx].drop(columns=['scene'])\n",
    "        train_y = y[target].iloc[train_idx]\n",
    "        valid_X = X.iloc[valid_idx].drop(columns=['scene'])\n",
    "        valid_y = y[target].iloc[valid_idx]\n",
    "\n",
    "        train_data = lgb.Dataset(train_X, train_y)\n",
    "        valid_data = lgb.Dataset(valid_X, valid_y, reference=train_data)\n",
    "\n",
    "        model = lgb.train(\n",
    "            lgb_params,\n",
    "            train_data,\n",
    "            valid_sets=[valid_data],\n",
    "            num_boost_round=10000,\n",
    "            callbacks=[lgb.early_stopping(100)],\n",
    "        )\n",
    "        oof[valid_idx] = model.predict(valid_X)\n",
    "        models.append(model)\n",
    "    return models, oof\n",
    "\n",
    "def predict(X: pd.DataFrame, models: list):\n",
    "    preds = []\n",
    "    for model in models:\n",
    "        pred = model.predict(X.drop(columns=['scene']))\n",
    "        preds.append(pred)\n",
    "    return np.mean(preds, axis=0)\n",
    "\n",
    "def evaluate(y_true: pd.DataFrame, y_pred: pd.DataFrame):\n",
    "    return np.mean(np.abs(y_true - y_pred))"
   ]
  },
  {
   "cell_type": "code",
   "execution_count": null,
   "metadata": {},
   "outputs": [
    {
     "name": "stdout",
     "output_type": "stream",
     "text": [
      "(43371, 32)\n",
      "(1727, 14)\n"
     ]
    }
   ],
   "source": [
    "train_df = preprocess(train_df)\n",
    "\n",
    "origin_test_ids = test_df['ID'].to_pandas()\n",
    "test_df = preprocess(test_df)\n",
    "\n",
    "print(train_df.shape)\n",
    "print(test_df.shape)"
   ]
  },
  {
   "cell_type": "code",
   "execution_count": 8,
   "metadata": {},
   "outputs": [
    {
     "name": "stdout",
     "output_type": "stream",
     "text": [
      "(43371, 13)\n",
      "(1727, 13)\n"
     ]
    }
   ],
   "source": [
    "remove_columns = ['ID']\n",
    "X = train_df.drop(remove_columns + TARGET_COLS).to_pandas()\n",
    "y = train_df[TARGET_COLS].to_pandas()\n",
    "\n",
    "test_X = test_df.drop(remove_columns).to_pandas()\n",
    "\n",
    "oe = OrdinalEncoder(handle_unknown='use_encoded_value', unknown_value=-1)\n",
    "X[CAT_COLS] = oe.fit_transform(X[CAT_COLS])\n",
    "test_X[CAT_COLS] = oe.transform(test_X[CAT_COLS])\n",
    "\n",
    "print(X.shape)\n",
    "print(test_X.shape)"
   ]
  },
  {
   "cell_type": "code",
   "execution_count": null,
   "metadata": {},
   "outputs": [
    {
     "name": "stdout",
     "output_type": "stream",
     "text": [
      "Training until validation scores don't improve for 100 rounds\n",
      "Early stopping, best iteration is:\n",
      "[823]\tvalid_0's l1: 0.062273\n",
      "Training until validation scores don't improve for 100 rounds\n",
      "Early stopping, best iteration is:\n",
      "[899]\tvalid_0's l1: 0.0617193\n",
      "Training until validation scores don't improve for 100 rounds\n",
      "Early stopping, best iteration is:\n",
      "[838]\tvalid_0's l1: 0.0641437\n",
      "Training until validation scores don't improve for 100 rounds\n",
      "Early stopping, best iteration is:\n",
      "[930]\tvalid_0's l1: 0.0631051\n",
      "Training until validation scores don't improve for 100 rounds\n",
      "Early stopping, best iteration is:\n",
      "[951]\tvalid_0's l1: 0.0637588\n"
     ]
    },
    {
     "name": "stderr",
     "output_type": "stream",
     "text": [
      "/var/folders/vq/4c8kgm65475ctdqgk6_bw_zw0000gn/T/ipykernel_95881/4210997625.py:12: FutureWarning: Setting an item of incompatible dtype is deprecated and will raise in a future error of pandas. Value '[1.48309792 0.93508628 1.58182609 ... 7.41291553 6.51565164 5.82247373]' has dtype incompatible with int64, please explicitly cast to a compatible dtype first.\n",
      "  preds.loc[:, target] = predict(test_X, models_dict[target])\n"
     ]
    },
    {
     "name": "stdout",
     "output_type": "stream",
     "text": [
      "Training until validation scores don't improve for 100 rounds\n",
      "Early stopping, best iteration is:\n",
      "[701]\tvalid_0's l1: 0.0328458\n",
      "Training until validation scores don't improve for 100 rounds\n",
      "Early stopping, best iteration is:\n",
      "[503]\tvalid_0's l1: 0.0321552\n",
      "Training until validation scores don't improve for 100 rounds\n",
      "Early stopping, best iteration is:\n",
      "[1342]\tvalid_0's l1: 0.0332671\n",
      "Training until validation scores don't improve for 100 rounds\n",
      "Early stopping, best iteration is:\n",
      "[725]\tvalid_0's l1: 0.0324673\n",
      "Training until validation scores don't improve for 100 rounds\n",
      "Early stopping, best iteration is:\n",
      "[584]\tvalid_0's l1: 0.0338363\n"
     ]
    },
    {
     "name": "stderr",
     "output_type": "stream",
     "text": [
      "/var/folders/vq/4c8kgm65475ctdqgk6_bw_zw0000gn/T/ipykernel_95881/4210997625.py:12: FutureWarning: Setting an item of incompatible dtype is deprecated and will raise in a future error of pandas. Value '[-0.03762841  0.37108761  0.01521033 ... -0.00942657 -0.01043264\n",
      " -0.26226476]' has dtype incompatible with int64, please explicitly cast to a compatible dtype first.\n",
      "  preds.loc[:, target] = predict(test_X, models_dict[target])\n"
     ]
    },
    {
     "name": "stdout",
     "output_type": "stream",
     "text": [
      "Training until validation scores don't improve for 100 rounds\n",
      "Early stopping, best iteration is:\n",
      "[186]\tvalid_0's l1: 0.025886\n",
      "Training until validation scores don't improve for 100 rounds\n",
      "Early stopping, best iteration is:\n",
      "[157]\tvalid_0's l1: 0.0255933\n",
      "Training until validation scores don't improve for 100 rounds\n",
      "Early stopping, best iteration is:\n",
      "[140]\tvalid_0's l1: 0.0265234\n",
      "Training until validation scores don't improve for 100 rounds\n",
      "Early stopping, best iteration is:\n",
      "[125]\tvalid_0's l1: 0.0266375\n",
      "Training until validation scores don't improve for 100 rounds\n",
      "Early stopping, best iteration is:\n",
      "[157]\tvalid_0's l1: 0.0258953\n",
      "Training until validation scores don't improve for 100 rounds\n"
     ]
    },
    {
     "name": "stderr",
     "output_type": "stream",
     "text": [
      "/var/folders/vq/4c8kgm65475ctdqgk6_bw_zw0000gn/T/ipykernel_95881/4210997625.py:12: FutureWarning: Setting an item of incompatible dtype is deprecated and will raise in a future error of pandas. Value '[ 0.00143948 -0.00485656 -0.00226977 ...  0.00228035  0.00034793\n",
      "  0.00230236]' has dtype incompatible with int64, please explicitly cast to a compatible dtype first.\n",
      "  preds.loc[:, target] = predict(test_X, models_dict[target])\n"
     ]
    },
    {
     "name": "stdout",
     "output_type": "stream",
     "text": [
      "Early stopping, best iteration is:\n",
      "[1077]\tvalid_0's l1: 0.133798\n",
      "Training until validation scores don't improve for 100 rounds\n",
      "Early stopping, best iteration is:\n",
      "[1202]\tvalid_0's l1: 0.135923\n",
      "Training until validation scores don't improve for 100 rounds\n",
      "Early stopping, best iteration is:\n",
      "[953]\tvalid_0's l1: 0.137433\n",
      "Training until validation scores don't improve for 100 rounds\n",
      "Early stopping, best iteration is:\n",
      "[1123]\tvalid_0's l1: 0.135908\n",
      "Training until validation scores don't improve for 100 rounds\n",
      "Early stopping, best iteration is:\n",
      "[1015]\tvalid_0's l1: 0.139197\n"
     ]
    },
    {
     "name": "stderr",
     "output_type": "stream",
     "text": [
      "/var/folders/vq/4c8kgm65475ctdqgk6_bw_zw0000gn/T/ipykernel_95881/4210997625.py:12: FutureWarning: Setting an item of incompatible dtype is deprecated and will raise in a future error of pandas. Value '[ 3.07065055  1.76771635  3.21930132 ... 15.68570195 13.65501515\n",
      " 12.34634783]' has dtype incompatible with int64, please explicitly cast to a compatible dtype first.\n",
      "  preds.loc[:, target] = predict(test_X, models_dict[target])\n"
     ]
    },
    {
     "name": "stdout",
     "output_type": "stream",
     "text": [
      "Training until validation scores don't improve for 100 rounds\n",
      "Early stopping, best iteration is:\n",
      "[1217]\tvalid_0's l1: 0.0738015\n",
      "Training until validation scores don't improve for 100 rounds\n",
      "Early stopping, best iteration is:\n",
      "[918]\tvalid_0's l1: 0.0725206\n",
      "Training until validation scores don't improve for 100 rounds\n",
      "Early stopping, best iteration is:\n",
      "[1481]\tvalid_0's l1: 0.0749747\n",
      "Training until validation scores don't improve for 100 rounds\n",
      "Early stopping, best iteration is:\n",
      "[1137]\tvalid_0's l1: 0.0737289\n",
      "Training until validation scores don't improve for 100 rounds\n",
      "Early stopping, best iteration is:\n",
      "[1518]\tvalid_0's l1: 0.0759161\n"
     ]
    },
    {
     "name": "stderr",
     "output_type": "stream",
     "text": [
      "/var/folders/vq/4c8kgm65475ctdqgk6_bw_zw0000gn/T/ipykernel_95881/4210997625.py:12: FutureWarning: Setting an item of incompatible dtype is deprecated and will raise in a future error of pandas. Value '[-9.92651086e-02  9.64232008e-01  2.62664635e-05 ... -4.41827784e-02\n",
      " -2.53302983e-02 -1.04648143e+00]' has dtype incompatible with int64, please explicitly cast to a compatible dtype first.\n",
      "  preds.loc[:, target] = predict(test_X, models_dict[target])\n"
     ]
    },
    {
     "name": "stdout",
     "output_type": "stream",
     "text": [
      "Training until validation scores don't improve for 100 rounds\n",
      "Early stopping, best iteration is:\n",
      "[214]\tvalid_0's l1: 0.0538536\n",
      "Training until validation scores don't improve for 100 rounds\n",
      "Early stopping, best iteration is:\n",
      "[167]\tvalid_0's l1: 0.0530817\n",
      "Training until validation scores don't improve for 100 rounds\n",
      "Early stopping, best iteration is:\n",
      "[292]\tvalid_0's l1: 0.0548321\n",
      "Training until validation scores don't improve for 100 rounds\n",
      "Early stopping, best iteration is:\n",
      "[246]\tvalid_0's l1: 0.0556545\n",
      "Training until validation scores don't improve for 100 rounds\n",
      "Early stopping, best iteration is:\n",
      "[137]\tvalid_0's l1: 0.0541282\n",
      "Training until validation scores don't improve for 100 rounds\n"
     ]
    },
    {
     "name": "stderr",
     "output_type": "stream",
     "text": [
      "/var/folders/vq/4c8kgm65475ctdqgk6_bw_zw0000gn/T/ipykernel_95881/4210997625.py:12: FutureWarning: Setting an item of incompatible dtype is deprecated and will raise in a future error of pandas. Value '[ 0.00278808 -0.00705398 -0.00601049 ...  0.00415293 -0.00256092\n",
      "  0.00174012]' has dtype incompatible with int64, please explicitly cast to a compatible dtype first.\n",
      "  preds.loc[:, target] = predict(test_X, models_dict[target])\n"
     ]
    },
    {
     "name": "stdout",
     "output_type": "stream",
     "text": [
      "Early stopping, best iteration is:\n",
      "[1225]\tvalid_0's l1: 0.236013\n",
      "Training until validation scores don't improve for 100 rounds\n",
      "Early stopping, best iteration is:\n",
      "[1163]\tvalid_0's l1: 0.240886\n",
      "Training until validation scores don't improve for 100 rounds\n",
      "Early stopping, best iteration is:\n",
      "[1162]\tvalid_0's l1: 0.24018\n",
      "Training until validation scores don't improve for 100 rounds\n",
      "Early stopping, best iteration is:\n",
      "[1080]\tvalid_0's l1: 0.238516\n",
      "Training until validation scores don't improve for 100 rounds\n",
      "Early stopping, best iteration is:\n",
      "[1636]\tvalid_0's l1: 0.243707\n"
     ]
    },
    {
     "name": "stderr",
     "output_type": "stream",
     "text": [
      "/var/folders/vq/4c8kgm65475ctdqgk6_bw_zw0000gn/T/ipykernel_95881/4210997625.py:12: FutureWarning: Setting an item of incompatible dtype is deprecated and will raise in a future error of pandas. Value '[ 4.64481141  2.48319112  4.71898174 ... 23.97584891 20.72931506\n",
      " 18.92785425]' has dtype incompatible with int64, please explicitly cast to a compatible dtype first.\n",
      "  preds.loc[:, target] = predict(test_X, models_dict[target])\n"
     ]
    },
    {
     "name": "stdout",
     "output_type": "stream",
     "text": [
      "Training until validation scores don't improve for 100 rounds\n",
      "Early stopping, best iteration is:\n",
      "[1401]\tvalid_0's l1: 0.130643\n",
      "Training until validation scores don't improve for 100 rounds\n",
      "Early stopping, best iteration is:\n",
      "[1809]\tvalid_0's l1: 0.130903\n",
      "Training until validation scores don't improve for 100 rounds\n",
      "Early stopping, best iteration is:\n",
      "[1672]\tvalid_0's l1: 0.133246\n",
      "Training until validation scores don't improve for 100 rounds\n",
      "Early stopping, best iteration is:\n",
      "[1940]\tvalid_0's l1: 0.131807\n",
      "Training until validation scores don't improve for 100 rounds\n",
      "Early stopping, best iteration is:\n",
      "[1949]\tvalid_0's l1: 0.135624\n"
     ]
    },
    {
     "name": "stderr",
     "output_type": "stream",
     "text": [
      "/var/folders/vq/4c8kgm65475ctdqgk6_bw_zw0000gn/T/ipykernel_95881/4210997625.py:12: FutureWarning: Setting an item of incompatible dtype is deprecated and will raise in a future error of pandas. Value '[-0.17044419  1.67198618 -0.03180536 ... -0.10299334 -0.03607973\n",
      " -2.31021473]' has dtype incompatible with int64, please explicitly cast to a compatible dtype first.\n",
      "  preds.loc[:, target] = predict(test_X, models_dict[target])\n"
     ]
    },
    {
     "name": "stdout",
     "output_type": "stream",
     "text": [
      "Training until validation scores don't improve for 100 rounds\n",
      "Early stopping, best iteration is:\n",
      "[276]\tvalid_0's l1: 0.0829358\n",
      "Training until validation scores don't improve for 100 rounds\n",
      "Early stopping, best iteration is:\n",
      "[232]\tvalid_0's l1: 0.0816756\n",
      "Training until validation scores don't improve for 100 rounds\n",
      "Early stopping, best iteration is:\n",
      "[350]\tvalid_0's l1: 0.0842818\n",
      "Training until validation scores don't improve for 100 rounds\n",
      "Early stopping, best iteration is:\n",
      "[317]\tvalid_0's l1: 0.0863294\n",
      "Training until validation scores don't improve for 100 rounds\n",
      "Early stopping, best iteration is:\n",
      "[166]\tvalid_0's l1: 0.0834996\n",
      "Training until validation scores don't improve for 100 rounds\n"
     ]
    },
    {
     "name": "stderr",
     "output_type": "stream",
     "text": [
      "/var/folders/vq/4c8kgm65475ctdqgk6_bw_zw0000gn/T/ipykernel_95881/4210997625.py:12: FutureWarning: Setting an item of incompatible dtype is deprecated and will raise in a future error of pandas. Value '[ 0.00419841 -0.00925453 -0.00659386 ...  0.00556219 -0.0063179\n",
      " -0.01057301]' has dtype incompatible with int64, please explicitly cast to a compatible dtype first.\n",
      "  preds.loc[:, target] = predict(test_X, models_dict[target])\n"
     ]
    },
    {
     "name": "stdout",
     "output_type": "stream",
     "text": [
      "Early stopping, best iteration is:\n",
      "[1334]\tvalid_0's l1: 0.387776\n",
      "Training until validation scores don't improve for 100 rounds\n",
      "Early stopping, best iteration is:\n",
      "[1140]\tvalid_0's l1: 0.398178\n",
      "Training until validation scores don't improve for 100 rounds\n",
      "Early stopping, best iteration is:\n",
      "[1227]\tvalid_0's l1: 0.393824\n",
      "Training until validation scores don't improve for 100 rounds\n",
      "Early stopping, best iteration is:\n",
      "[1690]\tvalid_0's l1: 0.389379\n",
      "Training until validation scores don't improve for 100 rounds\n",
      "Early stopping, best iteration is:\n",
      "[1436]\tvalid_0's l1: 0.399168\n"
     ]
    },
    {
     "name": "stderr",
     "output_type": "stream",
     "text": [
      "/var/folders/vq/4c8kgm65475ctdqgk6_bw_zw0000gn/T/ipykernel_95881/4210997625.py:12: FutureWarning: Setting an item of incompatible dtype is deprecated and will raise in a future error of pandas. Value '[ 6.14069647  2.99726787  5.99439169 ... 32.27226389 27.73537112\n",
      " 25.53528076]' has dtype incompatible with int64, please explicitly cast to a compatible dtype first.\n",
      "  preds.loc[:, target] = predict(test_X, models_dict[target])\n"
     ]
    },
    {
     "name": "stdout",
     "output_type": "stream",
     "text": [
      "Training until validation scores don't improve for 100 rounds\n",
      "Early stopping, best iteration is:\n",
      "[1705]\tvalid_0's l1: 0.215081\n",
      "Training until validation scores don't improve for 100 rounds\n",
      "Early stopping, best iteration is:\n",
      "[1489]\tvalid_0's l1: 0.22065\n",
      "Training until validation scores don't improve for 100 rounds\n",
      "Early stopping, best iteration is:\n",
      "[2156]\tvalid_0's l1: 0.220773\n",
      "Training until validation scores don't improve for 100 rounds\n",
      "Early stopping, best iteration is:\n",
      "[2196]\tvalid_0's l1: 0.217298\n",
      "Training until validation scores don't improve for 100 rounds\n",
      "Early stopping, best iteration is:\n",
      "[2187]\tvalid_0's l1: 0.225527\n"
     ]
    },
    {
     "name": "stderr",
     "output_type": "stream",
     "text": [
      "/var/folders/vq/4c8kgm65475ctdqgk6_bw_zw0000gn/T/ipykernel_95881/4210997625.py:12: FutureWarning: Setting an item of incompatible dtype is deprecated and will raise in a future error of pandas. Value '[-0.16023359  2.40067594 -0.0792384  ... -0.18614952 -0.04858825\n",
      " -3.89871598]' has dtype incompatible with int64, please explicitly cast to a compatible dtype first.\n",
      "  preds.loc[:, target] = predict(test_X, models_dict[target])\n"
     ]
    },
    {
     "name": "stdout",
     "output_type": "stream",
     "text": [
      "Training until validation scores don't improve for 100 rounds\n",
      "Early stopping, best iteration is:\n",
      "[307]\tvalid_0's l1: 0.113166\n",
      "Training until validation scores don't improve for 100 rounds\n",
      "Early stopping, best iteration is:\n",
      "[279]\tvalid_0's l1: 0.111733\n",
      "Training until validation scores don't improve for 100 rounds\n",
      "Early stopping, best iteration is:\n",
      "[289]\tvalid_0's l1: 0.115108\n",
      "Training until validation scores don't improve for 100 rounds\n",
      "Early stopping, best iteration is:\n",
      "[228]\tvalid_0's l1: 0.117838\n",
      "Training until validation scores don't improve for 100 rounds\n",
      "Early stopping, best iteration is:\n",
      "[256]\tvalid_0's l1: 0.114685\n",
      "Training until validation scores don't improve for 100 rounds\n"
     ]
    },
    {
     "name": "stderr",
     "output_type": "stream",
     "text": [
      "/var/folders/vq/4c8kgm65475ctdqgk6_bw_zw0000gn/T/ipykernel_95881/4210997625.py:12: FutureWarning: Setting an item of incompatible dtype is deprecated and will raise in a future error of pandas. Value '[ 0.00352331 -0.00525184 -0.01022115 ...  0.00832349 -0.00864014\n",
      " -0.04213585]' has dtype incompatible with int64, please explicitly cast to a compatible dtype first.\n",
      "  preds.loc[:, target] = predict(test_X, models_dict[target])\n"
     ]
    },
    {
     "name": "stdout",
     "output_type": "stream",
     "text": [
      "Early stopping, best iteration is:\n",
      "[1140]\tvalid_0's l1: 0.598432\n",
      "Training until validation scores don't improve for 100 rounds\n",
      "Early stopping, best iteration is:\n",
      "[1339]\tvalid_0's l1: 0.616804\n",
      "Training until validation scores don't improve for 100 rounds\n",
      "Early stopping, best iteration is:\n",
      "[1617]\tvalid_0's l1: 0.609888\n",
      "Training until validation scores don't improve for 100 rounds\n",
      "Early stopping, best iteration is:\n",
      "[1453]\tvalid_0's l1: 0.602955\n",
      "Training until validation scores don't improve for 100 rounds\n",
      "Early stopping, best iteration is:\n",
      "[1329]\tvalid_0's l1: 0.61716\n"
     ]
    },
    {
     "name": "stderr",
     "output_type": "stream",
     "text": [
      "/var/folders/vq/4c8kgm65475ctdqgk6_bw_zw0000gn/T/ipykernel_95881/4210997625.py:12: FutureWarning: Setting an item of incompatible dtype is deprecated and will raise in a future error of pandas. Value '[ 7.68033125  3.45006841  7.25253884 ... 40.5783336  34.70659694\n",
      " 32.1096969 ]' has dtype incompatible with int64, please explicitly cast to a compatible dtype first.\n",
      "  preds.loc[:, target] = predict(test_X, models_dict[target])\n"
     ]
    },
    {
     "name": "stdout",
     "output_type": "stream",
     "text": [
      "Training until validation scores don't improve for 100 rounds\n",
      "Early stopping, best iteration is:\n",
      "[1863]\tvalid_0's l1: 0.333173\n",
      "Training until validation scores don't improve for 100 rounds\n",
      "Early stopping, best iteration is:\n",
      "[2245]\tvalid_0's l1: 0.344661\n",
      "Training until validation scores don't improve for 100 rounds\n",
      "Early stopping, best iteration is:\n",
      "[1432]\tvalid_0's l1: 0.344161\n",
      "Training until validation scores don't improve for 100 rounds\n",
      "Early stopping, best iteration is:\n",
      "[2621]\tvalid_0's l1: 0.335905\n",
      "Training until validation scores don't improve for 100 rounds\n",
      "Early stopping, best iteration is:\n",
      "[2459]\tvalid_0's l1: 0.353716\n"
     ]
    },
    {
     "name": "stderr",
     "output_type": "stream",
     "text": [
      "/var/folders/vq/4c8kgm65475ctdqgk6_bw_zw0000gn/T/ipykernel_95881/4210997625.py:12: FutureWarning: Setting an item of incompatible dtype is deprecated and will raise in a future error of pandas. Value '[-0.16652586  3.14487121 -0.19091316 ... -0.29096358 -0.05719375\n",
      " -5.72855611]' has dtype incompatible with int64, please explicitly cast to a compatible dtype first.\n",
      "  preds.loc[:, target] = predict(test_X, models_dict[target])\n"
     ]
    },
    {
     "name": "stdout",
     "output_type": "stream",
     "text": [
      "Training until validation scores don't improve for 100 rounds\n",
      "Early stopping, best iteration is:\n",
      "[372]\tvalid_0's l1: 0.144888\n",
      "Training until validation scores don't improve for 100 rounds\n",
      "Early stopping, best iteration is:\n",
      "[343]\tvalid_0's l1: 0.143368\n",
      "Training until validation scores don't improve for 100 rounds\n",
      "Early stopping, best iteration is:\n",
      "[378]\tvalid_0's l1: 0.14682\n",
      "Training until validation scores don't improve for 100 rounds\n",
      "Early stopping, best iteration is:\n",
      "[262]\tvalid_0's l1: 0.150693\n",
      "Training until validation scores don't improve for 100 rounds\n",
      "Early stopping, best iteration is:\n",
      "[277]\tvalid_0's l1: 0.14658\n",
      "Training until validation scores don't improve for 100 rounds\n"
     ]
    },
    {
     "name": "stderr",
     "output_type": "stream",
     "text": [
      "/var/folders/vq/4c8kgm65475ctdqgk6_bw_zw0000gn/T/ipykernel_95881/4210997625.py:12: FutureWarning: Setting an item of incompatible dtype is deprecated and will raise in a future error of pandas. Value '[-0.00192442 -0.00443795 -0.01263596 ...  0.01486637 -0.0093935\n",
      " -0.10300619]' has dtype incompatible with int64, please explicitly cast to a compatible dtype first.\n",
      "  preds.loc[:, target] = predict(test_X, models_dict[target])\n"
     ]
    },
    {
     "name": "stdout",
     "output_type": "stream",
     "text": [
      "Early stopping, best iteration is:\n",
      "[1213]\tvalid_0's l1: 0.875111\n",
      "Training until validation scores don't improve for 100 rounds\n",
      "Early stopping, best iteration is:\n",
      "[1270]\tvalid_0's l1: 0.902381\n",
      "Training until validation scores don't improve for 100 rounds\n",
      "Early stopping, best iteration is:\n",
      "[1488]\tvalid_0's l1: 0.890718\n",
      "Training until validation scores don't improve for 100 rounds\n",
      "Early stopping, best iteration is:\n",
      "[1248]\tvalid_0's l1: 0.884178\n",
      "Training until validation scores don't improve for 100 rounds\n",
      "Early stopping, best iteration is:\n",
      "[1428]\tvalid_0's l1: 0.897833\n"
     ]
    },
    {
     "name": "stderr",
     "output_type": "stream",
     "text": [
      "/var/folders/vq/4c8kgm65475ctdqgk6_bw_zw0000gn/T/ipykernel_95881/4210997625.py:12: FutureWarning: Setting an item of incompatible dtype is deprecated and will raise in a future error of pandas. Value '[ 9.15848917  3.79932982  8.27120646 ... 48.87920347 41.62958178\n",
      " 38.65951898]' has dtype incompatible with int64, please explicitly cast to a compatible dtype first.\n",
      "  preds.loc[:, target] = predict(test_X, models_dict[target])\n"
     ]
    },
    {
     "name": "stdout",
     "output_type": "stream",
     "text": [
      "Training until validation scores don't improve for 100 rounds\n",
      "Early stopping, best iteration is:\n",
      "[1623]\tvalid_0's l1: 0.486914\n",
      "Training until validation scores don't improve for 100 rounds\n",
      "Early stopping, best iteration is:\n",
      "[1761]\tvalid_0's l1: 0.507105\n",
      "Training until validation scores don't improve for 100 rounds\n",
      "Early stopping, best iteration is:\n",
      "[1591]\tvalid_0's l1: 0.504832\n",
      "Training until validation scores don't improve for 100 rounds\n",
      "Early stopping, best iteration is:\n",
      "[2225]\tvalid_0's l1: 0.492796\n",
      "Training until validation scores don't improve for 100 rounds\n",
      "Early stopping, best iteration is:\n",
      "[2604]\tvalid_0's l1: 0.519211\n"
     ]
    },
    {
     "name": "stderr",
     "output_type": "stream",
     "text": [
      "/var/folders/vq/4c8kgm65475ctdqgk6_bw_zw0000gn/T/ipykernel_95881/4210997625.py:12: FutureWarning: Setting an item of incompatible dtype is deprecated and will raise in a future error of pandas. Value '[-0.20635111  4.07543387 -0.25140104 ... -0.39098378 -0.06838533\n",
      " -7.81367377]' has dtype incompatible with int64, please explicitly cast to a compatible dtype first.\n",
      "  preds.loc[:, target] = predict(test_X, models_dict[target])\n"
     ]
    },
    {
     "name": "stdout",
     "output_type": "stream",
     "text": [
      "Training until validation scores don't improve for 100 rounds\n",
      "Early stopping, best iteration is:\n",
      "[325]\tvalid_0's l1: 0.178323\n",
      "Training until validation scores don't improve for 100 rounds\n",
      "Early stopping, best iteration is:\n",
      "[265]\tvalid_0's l1: 0.176518\n",
      "Training until validation scores don't improve for 100 rounds\n",
      "Early stopping, best iteration is:\n",
      "[417]\tvalid_0's l1: 0.180154\n",
      "Training until validation scores don't improve for 100 rounds\n",
      "Early stopping, best iteration is:\n",
      "[248]\tvalid_0's l1: 0.184379\n",
      "Training until validation scores don't improve for 100 rounds\n",
      "Early stopping, best iteration is:\n",
      "[347]\tvalid_0's l1: 0.17988\n",
      "score:  0.23560903466107674\n"
     ]
    },
    {
     "name": "stderr",
     "output_type": "stream",
     "text": [
      "/var/folders/vq/4c8kgm65475ctdqgk6_bw_zw0000gn/T/ipykernel_95881/4210997625.py:12: FutureWarning: Setting an item of incompatible dtype is deprecated and will raise in a future error of pandas. Value '[-0.0057393   0.00032075 -0.01743417 ...  0.02830576 -0.01122561\n",
      " -0.20651298]' has dtype incompatible with int64, please explicitly cast to a compatible dtype first.\n",
      "  preds.loc[:, target] = predict(test_X, models_dict[target])\n"
     ]
    }
   ],
   "source": [
    "%%time\n",
    "\n",
    "models_dict = {}\n",
    "oof = pd.DataFrame(np.zeros_like(train_df.to_pandas().loc[:, TARGET_COLS]), columns=TARGET_COLS)\n",
    "\n",
    "preds = test_df.select(['ID']).to_pandas()\n",
    "preds[TARGET_COLS] = 0.0\n",
    "\n",
    "for target in TARGET_COLS:\n",
    "    partial_model, partial_oofs = train(X, y, target)\n",
    "    models_dict[target] = partial_model\n",
    "    oof.loc[:, target] = partial_oofs\n",
    "    preds.loc[:, target] = predict(test_X, models_dict[target])"
   ]
  },
  {
   "cell_type": "code",
   "execution_count": 11,
   "metadata": {},
   "outputs": [
    {
     "name": "stdout",
     "output_type": "stream",
     "text": [
      "score:  0.23560903466107674\n"
     ]
    }
   ],
   "source": [
    "score = evaluate(y, oof)\n",
    "print('score: ', score)"
   ]
  },
  {
   "cell_type": "code",
   "execution_count": null,
   "metadata": {},
   "outputs": [
    {
     "data": {
      "text/html": [
       "<div>\n",
       "<style scoped>\n",
       "    .dataframe tbody tr th:only-of-type {\n",
       "        vertical-align: middle;\n",
       "    }\n",
       "\n",
       "    .dataframe tbody tr th {\n",
       "        vertical-align: top;\n",
       "    }\n",
       "\n",
       "    .dataframe thead th {\n",
       "        text-align: right;\n",
       "    }\n",
       "</style>\n",
       "<table border=\"1\" class=\"dataframe\">\n",
       "  <thead>\n",
       "    <tr style=\"text-align: right;\">\n",
       "      <th></th>\n",
       "      <th>x_0</th>\n",
       "      <th>y_0</th>\n",
       "      <th>z_0</th>\n",
       "      <th>x_1</th>\n",
       "      <th>y_1</th>\n",
       "      <th>z_1</th>\n",
       "      <th>x_2</th>\n",
       "      <th>y_2</th>\n",
       "      <th>z_2</th>\n",
       "      <th>x_3</th>\n",
       "      <th>y_3</th>\n",
       "      <th>z_3</th>\n",
       "      <th>x_4</th>\n",
       "      <th>y_4</th>\n",
       "      <th>z_4</th>\n",
       "      <th>x_5</th>\n",
       "      <th>y_5</th>\n",
       "      <th>z_5</th>\n",
       "    </tr>\n",
       "  </thead>\n",
       "  <tbody>\n",
       "    <tr>\n",
       "      <th>0</th>\n",
       "      <td>1.483098</td>\n",
       "      <td>-0.037628</td>\n",
       "      <td>0.001439</td>\n",
       "      <td>3.070651</td>\n",
       "      <td>-0.099265</td>\n",
       "      <td>0.002788</td>\n",
       "      <td>4.644811</td>\n",
       "      <td>-0.170444</td>\n",
       "      <td>0.004198</td>\n",
       "      <td>6.140696</td>\n",
       "      <td>-0.160234</td>\n",
       "      <td>0.003523</td>\n",
       "      <td>7.680331</td>\n",
       "      <td>-0.166526</td>\n",
       "      <td>-0.001924</td>\n",
       "      <td>9.158489</td>\n",
       "      <td>-0.206351</td>\n",
       "      <td>-0.005739</td>\n",
       "    </tr>\n",
       "    <tr>\n",
       "      <th>1</th>\n",
       "      <td>0.935086</td>\n",
       "      <td>0.371088</td>\n",
       "      <td>-0.004857</td>\n",
       "      <td>1.767716</td>\n",
       "      <td>0.964232</td>\n",
       "      <td>-0.007054</td>\n",
       "      <td>2.483191</td>\n",
       "      <td>1.671986</td>\n",
       "      <td>-0.009255</td>\n",
       "      <td>2.997268</td>\n",
       "      <td>2.400676</td>\n",
       "      <td>-0.005252</td>\n",
       "      <td>3.450068</td>\n",
       "      <td>3.144871</td>\n",
       "      <td>-0.004438</td>\n",
       "      <td>3.799330</td>\n",
       "      <td>4.075434</td>\n",
       "      <td>0.000321</td>\n",
       "    </tr>\n",
       "    <tr>\n",
       "      <th>2</th>\n",
       "      <td>1.581826</td>\n",
       "      <td>0.015210</td>\n",
       "      <td>-0.002270</td>\n",
       "      <td>3.219301</td>\n",
       "      <td>0.000026</td>\n",
       "      <td>-0.006010</td>\n",
       "      <td>4.718982</td>\n",
       "      <td>-0.031805</td>\n",
       "      <td>-0.006594</td>\n",
       "      <td>5.994392</td>\n",
       "      <td>-0.079238</td>\n",
       "      <td>-0.010221</td>\n",
       "      <td>7.252539</td>\n",
       "      <td>-0.190913</td>\n",
       "      <td>-0.012636</td>\n",
       "      <td>8.271206</td>\n",
       "      <td>-0.251401</td>\n",
       "      <td>-0.017434</td>\n",
       "    </tr>\n",
       "    <tr>\n",
       "      <th>3</th>\n",
       "      <td>0.848449</td>\n",
       "      <td>0.051132</td>\n",
       "      <td>-0.005602</td>\n",
       "      <td>1.689315</td>\n",
       "      <td>0.171241</td>\n",
       "      <td>-0.013302</td>\n",
       "      <td>2.455276</td>\n",
       "      <td>0.409664</td>\n",
       "      <td>-0.020986</td>\n",
       "      <td>3.042121</td>\n",
       "      <td>0.559997</td>\n",
       "      <td>-0.034485</td>\n",
       "      <td>3.604864</td>\n",
       "      <td>0.932005</td>\n",
       "      <td>-0.045013</td>\n",
       "      <td>4.172381</td>\n",
       "      <td>1.392722</td>\n",
       "      <td>-0.058532</td>\n",
       "    </tr>\n",
       "    <tr>\n",
       "      <th>4</th>\n",
       "      <td>0.807686</td>\n",
       "      <td>0.005897</td>\n",
       "      <td>-0.009614</td>\n",
       "      <td>1.396199</td>\n",
       "      <td>0.010147</td>\n",
       "      <td>-0.029545</td>\n",
       "      <td>1.824539</td>\n",
       "      <td>0.008374</td>\n",
       "      <td>-0.048114</td>\n",
       "      <td>2.048646</td>\n",
       "      <td>0.003790</td>\n",
       "      <td>-0.059028</td>\n",
       "      <td>2.284738</td>\n",
       "      <td>-0.008458</td>\n",
       "      <td>-0.067366</td>\n",
       "      <td>2.687371</td>\n",
       "      <td>-0.018751</td>\n",
       "      <td>-0.073950</td>\n",
       "    </tr>\n",
       "    <tr>\n",
       "      <th>...</th>\n",
       "      <td>...</td>\n",
       "      <td>...</td>\n",
       "      <td>...</td>\n",
       "      <td>...</td>\n",
       "      <td>...</td>\n",
       "      <td>...</td>\n",
       "      <td>...</td>\n",
       "      <td>...</td>\n",
       "      <td>...</td>\n",
       "      <td>...</td>\n",
       "      <td>...</td>\n",
       "      <td>...</td>\n",
       "      <td>...</td>\n",
       "      <td>...</td>\n",
       "      <td>...</td>\n",
       "      <td>...</td>\n",
       "      <td>...</td>\n",
       "      <td>...</td>\n",
       "    </tr>\n",
       "    <tr>\n",
       "      <th>1722</th>\n",
       "      <td>6.532050</td>\n",
       "      <td>0.009760</td>\n",
       "      <td>0.009523</td>\n",
       "      <td>13.802336</td>\n",
       "      <td>0.057810</td>\n",
       "      <td>0.024284</td>\n",
       "      <td>21.054861</td>\n",
       "      <td>0.127567</td>\n",
       "      <td>0.036722</td>\n",
       "      <td>28.303162</td>\n",
       "      <td>0.232416</td>\n",
       "      <td>0.048121</td>\n",
       "      <td>35.563692</td>\n",
       "      <td>0.352936</td>\n",
       "      <td>0.057296</td>\n",
       "      <td>42.883746</td>\n",
       "      <td>0.478469</td>\n",
       "      <td>0.064899</td>\n",
       "    </tr>\n",
       "    <tr>\n",
       "      <th>1723</th>\n",
       "      <td>6.989153</td>\n",
       "      <td>-0.006101</td>\n",
       "      <td>0.005675</td>\n",
       "      <td>14.863966</td>\n",
       "      <td>-0.028863</td>\n",
       "      <td>0.012322</td>\n",
       "      <td>22.834665</td>\n",
       "      <td>-0.068895</td>\n",
       "      <td>0.024924</td>\n",
       "      <td>30.851378</td>\n",
       "      <td>-0.120367</td>\n",
       "      <td>0.042035</td>\n",
       "      <td>38.894378</td>\n",
       "      <td>-0.173865</td>\n",
       "      <td>0.056587</td>\n",
       "      <td>46.979140</td>\n",
       "      <td>-0.231984</td>\n",
       "      <td>0.073843</td>\n",
       "    </tr>\n",
       "    <tr>\n",
       "      <th>1724</th>\n",
       "      <td>7.412916</td>\n",
       "      <td>-0.009427</td>\n",
       "      <td>0.002280</td>\n",
       "      <td>15.685702</td>\n",
       "      <td>-0.044183</td>\n",
       "      <td>0.004153</td>\n",
       "      <td>23.975849</td>\n",
       "      <td>-0.102993</td>\n",
       "      <td>0.005562</td>\n",
       "      <td>32.272264</td>\n",
       "      <td>-0.186150</td>\n",
       "      <td>0.008323</td>\n",
       "      <td>40.578334</td>\n",
       "      <td>-0.290964</td>\n",
       "      <td>0.014866</td>\n",
       "      <td>48.879203</td>\n",
       "      <td>-0.390984</td>\n",
       "      <td>0.028306</td>\n",
       "    </tr>\n",
       "    <tr>\n",
       "      <th>1725</th>\n",
       "      <td>6.515652</td>\n",
       "      <td>-0.010433</td>\n",
       "      <td>0.000348</td>\n",
       "      <td>13.655015</td>\n",
       "      <td>-0.025330</td>\n",
       "      <td>-0.002561</td>\n",
       "      <td>20.729315</td>\n",
       "      <td>-0.036080</td>\n",
       "      <td>-0.006318</td>\n",
       "      <td>27.735371</td>\n",
       "      <td>-0.048588</td>\n",
       "      <td>-0.008640</td>\n",
       "      <td>34.706597</td>\n",
       "      <td>-0.057194</td>\n",
       "      <td>-0.009394</td>\n",
       "      <td>41.629582</td>\n",
       "      <td>-0.068385</td>\n",
       "      <td>-0.011226</td>\n",
       "    </tr>\n",
       "    <tr>\n",
       "      <th>1726</th>\n",
       "      <td>5.822474</td>\n",
       "      <td>-0.262265</td>\n",
       "      <td>0.002302</td>\n",
       "      <td>12.346348</td>\n",
       "      <td>-1.046481</td>\n",
       "      <td>0.001740</td>\n",
       "      <td>18.927854</td>\n",
       "      <td>-2.310215</td>\n",
       "      <td>-0.010573</td>\n",
       "      <td>25.535281</td>\n",
       "      <td>-3.898716</td>\n",
       "      <td>-0.042136</td>\n",
       "      <td>32.109697</td>\n",
       "      <td>-5.728556</td>\n",
       "      <td>-0.103006</td>\n",
       "      <td>38.659519</td>\n",
       "      <td>-7.813674</td>\n",
       "      <td>-0.206513</td>\n",
       "    </tr>\n",
       "  </tbody>\n",
       "</table>\n",
       "<p>1727 rows × 18 columns</p>\n",
       "</div>"
      ],
      "text/plain": [
       "           x_0       y_0       z_0        x_1       y_1       z_1        x_2  \\\n",
       "0     1.483098 -0.037628  0.001439   3.070651 -0.099265  0.002788   4.644811   \n",
       "1     0.935086  0.371088 -0.004857   1.767716  0.964232 -0.007054   2.483191   \n",
       "2     1.581826  0.015210 -0.002270   3.219301  0.000026 -0.006010   4.718982   \n",
       "3     0.848449  0.051132 -0.005602   1.689315  0.171241 -0.013302   2.455276   \n",
       "4     0.807686  0.005897 -0.009614   1.396199  0.010147 -0.029545   1.824539   \n",
       "...        ...       ...       ...        ...       ...       ...        ...   \n",
       "1722  6.532050  0.009760  0.009523  13.802336  0.057810  0.024284  21.054861   \n",
       "1723  6.989153 -0.006101  0.005675  14.863966 -0.028863  0.012322  22.834665   \n",
       "1724  7.412916 -0.009427  0.002280  15.685702 -0.044183  0.004153  23.975849   \n",
       "1725  6.515652 -0.010433  0.000348  13.655015 -0.025330 -0.002561  20.729315   \n",
       "1726  5.822474 -0.262265  0.002302  12.346348 -1.046481  0.001740  18.927854   \n",
       "\n",
       "           y_2       z_2        x_3       y_3       z_3        x_4       y_4  \\\n",
       "0    -0.170444  0.004198   6.140696 -0.160234  0.003523   7.680331 -0.166526   \n",
       "1     1.671986 -0.009255   2.997268  2.400676 -0.005252   3.450068  3.144871   \n",
       "2    -0.031805 -0.006594   5.994392 -0.079238 -0.010221   7.252539 -0.190913   \n",
       "3     0.409664 -0.020986   3.042121  0.559997 -0.034485   3.604864  0.932005   \n",
       "4     0.008374 -0.048114   2.048646  0.003790 -0.059028   2.284738 -0.008458   \n",
       "...        ...       ...        ...       ...       ...        ...       ...   \n",
       "1722  0.127567  0.036722  28.303162  0.232416  0.048121  35.563692  0.352936   \n",
       "1723 -0.068895  0.024924  30.851378 -0.120367  0.042035  38.894378 -0.173865   \n",
       "1724 -0.102993  0.005562  32.272264 -0.186150  0.008323  40.578334 -0.290964   \n",
       "1725 -0.036080 -0.006318  27.735371 -0.048588 -0.008640  34.706597 -0.057194   \n",
       "1726 -2.310215 -0.010573  25.535281 -3.898716 -0.042136  32.109697 -5.728556   \n",
       "\n",
       "           z_4        x_5       y_5       z_5  \n",
       "0    -0.001924   9.158489 -0.206351 -0.005739  \n",
       "1    -0.004438   3.799330  4.075434  0.000321  \n",
       "2    -0.012636   8.271206 -0.251401 -0.017434  \n",
       "3    -0.045013   4.172381  1.392722 -0.058532  \n",
       "4    -0.067366   2.687371 -0.018751 -0.073950  \n",
       "...        ...        ...       ...       ...  \n",
       "1722  0.057296  42.883746  0.478469  0.064899  \n",
       "1723  0.056587  46.979140 -0.231984  0.073843  \n",
       "1724  0.014866  48.879203 -0.390984  0.028306  \n",
       "1725 -0.009394  41.629582 -0.068385 -0.011226  \n",
       "1726 -0.103006  38.659519 -7.813674 -0.206513  \n",
       "\n",
       "[1727 rows x 18 columns]"
      ]
     },
     "execution_count": 30,
     "metadata": {},
     "output_type": "execute_result"
    }
   ],
   "source": [
    "submission = origin_test_ids.merge(preds, on='ID', how='left').drop(columns=['ID'])\n",
    "\n",
    "output_path = OUTPUT_DIR / f'{exp_name}_{score:.4f}_submission.csv'\n",
    "if output_path.exists():\n",
    "    assert False, f'output file already exists. {output_path}'\n",
    "\n",
    "submission.to_csv(output_path, index=False)\n",
    "submission"
   ]
  },
  {
   "cell_type": "code",
   "execution_count": null,
   "metadata": {},
   "outputs": [],
   "source": []
  }
 ],
 "metadata": {
  "kernelspec": {
   "display_name": ".venv",
   "language": "python",
   "name": "python3"
  },
  "language_info": {
   "codemirror_mode": {
    "name": "ipython",
    "version": 3
   },
   "file_extension": ".py",
   "mimetype": "text/x-python",
   "name": "python",
   "nbconvert_exporter": "python",
   "pygments_lexer": "ipython3",
   "version": "3.10.14"
  }
 },
 "nbformat": 4,
 "nbformat_minor": 2
}
