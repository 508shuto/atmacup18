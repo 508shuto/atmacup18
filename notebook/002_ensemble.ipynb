{
 "cells": [
  {
   "cell_type": "code",
   "execution_count": 1,
   "metadata": {},
   "outputs": [],
   "source": [
    "import pandas as pd"
   ]
  },
  {
   "cell_type": "code",
   "execution_count": 2,
   "metadata": {},
   "outputs": [
    {
     "name": "stdout",
     "output_type": "stream",
     "text": [
      "(1727, 18) (1727, 18) (1727, 18)\n"
     ]
    }
   ],
   "source": [
    "df1 = pd.read_csv('/Users/gouyashuto/localrepository/atmacup18/output/004_LightGBM_Baseline_0.2119_submission.csv')\n",
    "df2 = pd.read_csv('/Users/gouyashuto/localrepository/atmacup18/output/000_NN_NoImage_0.2501_submission.csv')\n",
    "df3 = pd.read_csv('/Users/gouyashuto/localrepository/atmacup18/output/baseline52.csv')\n",
    "print(df1.shape, df2.shape, df3.shape)"
   ]
  },
  {
   "cell_type": "code",
   "execution_count": 3,
   "metadata": {},
   "outputs": [
    {
     "data": {
      "text/plain": [
       "(1727, 18)"
      ]
     },
     "execution_count": 3,
     "metadata": {},
     "output_type": "execute_result"
    }
   ],
   "source": [
    "# 2つのsubmissionの荷重平均をとる\n",
    "submission = 0.8 * df1 + 0.1 * df2 + 0.1 * df3\n",
    "submission.shape"
   ]
  },
  {
   "cell_type": "code",
   "execution_count": 4,
   "metadata": {},
   "outputs": [
    {
     "data": {
      "text/html": [
       "<div>\n",
       "<style scoped>\n",
       "    .dataframe tbody tr th:only-of-type {\n",
       "        vertical-align: middle;\n",
       "    }\n",
       "\n",
       "    .dataframe tbody tr th {\n",
       "        vertical-align: top;\n",
       "    }\n",
       "\n",
       "    .dataframe thead th {\n",
       "        text-align: right;\n",
       "    }\n",
       "</style>\n",
       "<table border=\"1\" class=\"dataframe\">\n",
       "  <thead>\n",
       "    <tr style=\"text-align: right;\">\n",
       "      <th></th>\n",
       "      <th>x_0</th>\n",
       "      <th>y_0</th>\n",
       "      <th>z_0</th>\n",
       "      <th>x_1</th>\n",
       "      <th>y_1</th>\n",
       "      <th>z_1</th>\n",
       "      <th>x_2</th>\n",
       "      <th>y_2</th>\n",
       "      <th>z_2</th>\n",
       "      <th>x_3</th>\n",
       "      <th>y_3</th>\n",
       "      <th>z_3</th>\n",
       "      <th>x_4</th>\n",
       "      <th>y_4</th>\n",
       "      <th>z_4</th>\n",
       "      <th>x_5</th>\n",
       "      <th>y_5</th>\n",
       "      <th>z_5</th>\n",
       "    </tr>\n",
       "  </thead>\n",
       "  <tbody>\n",
       "    <tr>\n",
       "      <th>0</th>\n",
       "      <td>1.467891</td>\n",
       "      <td>-0.045983</td>\n",
       "      <td>0.002600</td>\n",
       "      <td>3.060217</td>\n",
       "      <td>-0.105001</td>\n",
       "      <td>0.005039</td>\n",
       "      <td>4.598851</td>\n",
       "      <td>-0.161714</td>\n",
       "      <td>0.002370</td>\n",
       "      <td>5.944244</td>\n",
       "      <td>-0.173514</td>\n",
       "      <td>0.003787</td>\n",
       "      <td>7.396819</td>\n",
       "      <td>-0.101883</td>\n",
       "      <td>-0.002027</td>\n",
       "      <td>8.762453</td>\n",
       "      <td>0.008608</td>\n",
       "      <td>-0.000388</td>\n",
       "    </tr>\n",
       "    <tr>\n",
       "      <th>1</th>\n",
       "      <td>0.934822</td>\n",
       "      <td>0.376343</td>\n",
       "      <td>-0.002481</td>\n",
       "      <td>1.740661</td>\n",
       "      <td>0.981891</td>\n",
       "      <td>0.000570</td>\n",
       "      <td>2.423446</td>\n",
       "      <td>1.760746</td>\n",
       "      <td>-0.005146</td>\n",
       "      <td>2.853486</td>\n",
       "      <td>2.622278</td>\n",
       "      <td>-0.004154</td>\n",
       "      <td>3.590491</td>\n",
       "      <td>3.588083</td>\n",
       "      <td>-0.005299</td>\n",
       "      <td>4.308034</td>\n",
       "      <td>4.631039</td>\n",
       "      <td>0.007919</td>\n",
       "    </tr>\n",
       "    <tr>\n",
       "      <th>2</th>\n",
       "      <td>1.578639</td>\n",
       "      <td>0.017911</td>\n",
       "      <td>0.003339</td>\n",
       "      <td>3.258491</td>\n",
       "      <td>0.020179</td>\n",
       "      <td>0.004438</td>\n",
       "      <td>4.923792</td>\n",
       "      <td>0.039683</td>\n",
       "      <td>0.006505</td>\n",
       "      <td>6.332150</td>\n",
       "      <td>0.043314</td>\n",
       "      <td>0.005463</td>\n",
       "      <td>7.780730</td>\n",
       "      <td>0.093435</td>\n",
       "      <td>0.007293</td>\n",
       "      <td>8.971186</td>\n",
       "      <td>0.148920</td>\n",
       "      <td>0.007473</td>\n",
       "    </tr>\n",
       "    <tr>\n",
       "      <th>3</th>\n",
       "      <td>0.844227</td>\n",
       "      <td>0.068368</td>\n",
       "      <td>-0.003422</td>\n",
       "      <td>1.665843</td>\n",
       "      <td>0.224900</td>\n",
       "      <td>-0.006703</td>\n",
       "      <td>2.440700</td>\n",
       "      <td>0.532018</td>\n",
       "      <td>-0.012915</td>\n",
       "      <td>3.001895</td>\n",
       "      <td>0.851074</td>\n",
       "      <td>-0.019434</td>\n",
       "      <td>3.645928</td>\n",
       "      <td>1.461693</td>\n",
       "      <td>-0.024615</td>\n",
       "      <td>4.261750</td>\n",
       "      <td>2.139137</td>\n",
       "      <td>-0.026750</td>\n",
       "    </tr>\n",
       "    <tr>\n",
       "      <th>4</th>\n",
       "      <td>0.820272</td>\n",
       "      <td>0.005131</td>\n",
       "      <td>-0.002592</td>\n",
       "      <td>1.418563</td>\n",
       "      <td>0.004851</td>\n",
       "      <td>-0.009101</td>\n",
       "      <td>1.875519</td>\n",
       "      <td>0.003239</td>\n",
       "      <td>-0.022498</td>\n",
       "      <td>2.202487</td>\n",
       "      <td>0.001060</td>\n",
       "      <td>-0.040593</td>\n",
       "      <td>2.138304</td>\n",
       "      <td>0.002330</td>\n",
       "      <td>-0.055737</td>\n",
       "      <td>1.763489</td>\n",
       "      <td>-0.012268</td>\n",
       "      <td>-0.071752</td>\n",
       "    </tr>\n",
       "  </tbody>\n",
       "</table>\n",
       "</div>"
      ],
      "text/plain": [
       "        x_0       y_0       z_0       x_1       y_1       z_1       x_2  \\\n",
       "0  1.467891 -0.045983  0.002600  3.060217 -0.105001  0.005039  4.598851   \n",
       "1  0.934822  0.376343 -0.002481  1.740661  0.981891  0.000570  2.423446   \n",
       "2  1.578639  0.017911  0.003339  3.258491  0.020179  0.004438  4.923792   \n",
       "3  0.844227  0.068368 -0.003422  1.665843  0.224900 -0.006703  2.440700   \n",
       "4  0.820272  0.005131 -0.002592  1.418563  0.004851 -0.009101  1.875519   \n",
       "\n",
       "        y_2       z_2       x_3       y_3       z_3       x_4       y_4  \\\n",
       "0 -0.161714  0.002370  5.944244 -0.173514  0.003787  7.396819 -0.101883   \n",
       "1  1.760746 -0.005146  2.853486  2.622278 -0.004154  3.590491  3.588083   \n",
       "2  0.039683  0.006505  6.332150  0.043314  0.005463  7.780730  0.093435   \n",
       "3  0.532018 -0.012915  3.001895  0.851074 -0.019434  3.645928  1.461693   \n",
       "4  0.003239 -0.022498  2.202487  0.001060 -0.040593  2.138304  0.002330   \n",
       "\n",
       "        z_4       x_5       y_5       z_5  \n",
       "0 -0.002027  8.762453  0.008608 -0.000388  \n",
       "1 -0.005299  4.308034  4.631039  0.007919  \n",
       "2  0.007293  8.971186  0.148920  0.007473  \n",
       "3 -0.024615  4.261750  2.139137 -0.026750  \n",
       "4 -0.055737  1.763489 -0.012268 -0.071752  "
      ]
     },
     "execution_count": 4,
     "metadata": {},
     "output_type": "execute_result"
    }
   ],
   "source": [
    "submission.to_csv('/Users/gouyashuto/localrepository/atmacup18/output/002_ensemble_submission.csv', index=False)\n",
    "submission.head()"
   ]
  },
  {
   "cell_type": "code",
   "execution_count": null,
   "metadata": {},
   "outputs": [],
   "source": []
  }
 ],
 "metadata": {
  "kernelspec": {
   "display_name": ".venv",
   "language": "python",
   "name": "python3"
  },
  "language_info": {
   "codemirror_mode": {
    "name": "ipython",
    "version": 3
   },
   "file_extension": ".py",
   "mimetype": "text/x-python",
   "name": "python",
   "nbconvert_exporter": "python",
   "pygments_lexer": "ipython3",
   "version": "3.10.14"
  }
 },
 "nbformat": 4,
 "nbformat_minor": 2
}
