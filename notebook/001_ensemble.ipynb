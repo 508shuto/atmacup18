{
 "cells": [
  {
   "cell_type": "code",
   "execution_count": 1,
   "metadata": {},
   "outputs": [],
   "source": [
    "import pandas as pd"
   ]
  },
  {
   "cell_type": "code",
   "execution_count": 2,
   "metadata": {},
   "outputs": [
    {
     "name": "stdout",
     "output_type": "stream",
     "text": [
      "(1727, 18) (1727, 18)\n"
     ]
    }
   ],
   "source": [
    "df1 = pd.read_csv('/Users/gouyashuto/localrepository/atmacup18/output/004_LightGBM_Baseline_0.2119_submission.csv')\n",
    "df2 = pd.read_csv('/Users/gouyashuto/localrepository/atmacup18/output/000_NN_NoImage_0.2501_submission.csv')\n",
    "print(df1.shape, df2.shape)"
   ]
  },
  {
   "cell_type": "code",
   "execution_count": 3,
   "metadata": {},
   "outputs": [
    {
     "data": {
      "text/plain": [
       "(1727, 18)"
      ]
     },
     "execution_count": 3,
     "metadata": {},
     "output_type": "execute_result"
    }
   ],
   "source": [
    "# 2つのsubmissionの荷重平均をとる\n",
    "submission = 0.8 * df1 + 0.2 * df2\n",
    "submission.shape"
   ]
  },
  {
   "cell_type": "code",
   "execution_count": 4,
   "metadata": {},
   "outputs": [
    {
     "data": {
      "text/html": [
       "<div>\n",
       "<style scoped>\n",
       "    .dataframe tbody tr th:only-of-type {\n",
       "        vertical-align: middle;\n",
       "    }\n",
       "\n",
       "    .dataframe tbody tr th {\n",
       "        vertical-align: top;\n",
       "    }\n",
       "\n",
       "    .dataframe thead th {\n",
       "        text-align: right;\n",
       "    }\n",
       "</style>\n",
       "<table border=\"1\" class=\"dataframe\">\n",
       "  <thead>\n",
       "    <tr style=\"text-align: right;\">\n",
       "      <th></th>\n",
       "      <th>x_0</th>\n",
       "      <th>y_0</th>\n",
       "      <th>z_0</th>\n",
       "      <th>x_1</th>\n",
       "      <th>y_1</th>\n",
       "      <th>z_1</th>\n",
       "      <th>x_2</th>\n",
       "      <th>y_2</th>\n",
       "      <th>z_2</th>\n",
       "      <th>x_3</th>\n",
       "      <th>y_3</th>\n",
       "      <th>z_3</th>\n",
       "      <th>x_4</th>\n",
       "      <th>y_4</th>\n",
       "      <th>z_4</th>\n",
       "      <th>x_5</th>\n",
       "      <th>y_5</th>\n",
       "      <th>z_5</th>\n",
       "    </tr>\n",
       "  </thead>\n",
       "  <tbody>\n",
       "    <tr>\n",
       "      <th>0</th>\n",
       "      <td>1.470275</td>\n",
       "      <td>-0.048679</td>\n",
       "      <td>0.001839</td>\n",
       "      <td>3.066854</td>\n",
       "      <td>-0.115111</td>\n",
       "      <td>0.004456</td>\n",
       "      <td>4.604696</td>\n",
       "      <td>-0.173210</td>\n",
       "      <td>0.001859</td>\n",
       "      <td>5.956124</td>\n",
       "      <td>-0.189409</td>\n",
       "      <td>0.001199</td>\n",
       "      <td>7.409612</td>\n",
       "      <td>-0.119771</td>\n",
       "      <td>-0.003619</td>\n",
       "      <td>8.776987</td>\n",
       "      <td>-0.004878</td>\n",
       "      <td>-0.003271</td>\n",
       "    </tr>\n",
       "    <tr>\n",
       "      <th>1</th>\n",
       "      <td>0.940328</td>\n",
       "      <td>0.376137</td>\n",
       "      <td>-0.002721</td>\n",
       "      <td>1.744961</td>\n",
       "      <td>0.967531</td>\n",
       "      <td>0.002112</td>\n",
       "      <td>2.427545</td>\n",
       "      <td>1.724918</td>\n",
       "      <td>-0.006100</td>\n",
       "      <td>2.858968</td>\n",
       "      <td>2.547194</td>\n",
       "      <td>-0.004546</td>\n",
       "      <td>3.610086</td>\n",
       "      <td>3.474121</td>\n",
       "      <td>-0.008055</td>\n",
       "      <td>4.328521</td>\n",
       "      <td>4.458796</td>\n",
       "      <td>0.007690</td>\n",
       "    </tr>\n",
       "    <tr>\n",
       "      <th>2</th>\n",
       "      <td>1.586409</td>\n",
       "      <td>0.020695</td>\n",
       "      <td>0.003189</td>\n",
       "      <td>3.265674</td>\n",
       "      <td>0.026131</td>\n",
       "      <td>0.006421</td>\n",
       "      <td>4.928958</td>\n",
       "      <td>0.051335</td>\n",
       "      <td>0.008555</td>\n",
       "      <td>6.334205</td>\n",
       "      <td>0.063375</td>\n",
       "      <td>0.008981</td>\n",
       "      <td>7.776292</td>\n",
       "      <td>0.124555</td>\n",
       "      <td>0.012671</td>\n",
       "      <td>8.963129</td>\n",
       "      <td>0.192424</td>\n",
       "      <td>0.012095</td>\n",
       "    </tr>\n",
       "    <tr>\n",
       "      <th>3</th>\n",
       "      <td>0.842338</td>\n",
       "      <td>0.068249</td>\n",
       "      <td>-0.002868</td>\n",
       "      <td>1.662480</td>\n",
       "      <td>0.213680</td>\n",
       "      <td>-0.003037</td>\n",
       "      <td>2.433715</td>\n",
       "      <td>0.503058</td>\n",
       "      <td>-0.009197</td>\n",
       "      <td>2.994887</td>\n",
       "      <td>0.799455</td>\n",
       "      <td>-0.011972</td>\n",
       "      <td>3.642280</td>\n",
       "      <td>1.385200</td>\n",
       "      <td>-0.014948</td>\n",
       "      <td>4.258598</td>\n",
       "      <td>2.030979</td>\n",
       "      <td>-0.015739</td>\n",
       "    </tr>\n",
       "    <tr>\n",
       "      <th>4</th>\n",
       "      <td>0.802992</td>\n",
       "      <td>0.005840</td>\n",
       "      <td>-0.003018</td>\n",
       "      <td>1.379883</td>\n",
       "      <td>0.004998</td>\n",
       "      <td>-0.009236</td>\n",
       "      <td>1.819862</td>\n",
       "      <td>0.004130</td>\n",
       "      <td>-0.021761</td>\n",
       "      <td>2.129220</td>\n",
       "      <td>0.001999</td>\n",
       "      <td>-0.037602</td>\n",
       "      <td>2.054016</td>\n",
       "      <td>0.003514</td>\n",
       "      <td>-0.053105</td>\n",
       "      <td>1.665828</td>\n",
       "      <td>-0.011998</td>\n",
       "      <td>-0.068486</td>\n",
       "    </tr>\n",
       "  </tbody>\n",
       "</table>\n",
       "</div>"
      ],
      "text/plain": [
       "        x_0       y_0       z_0       x_1       y_1       z_1       x_2  \\\n",
       "0  1.470275 -0.048679  0.001839  3.066854 -0.115111  0.004456  4.604696   \n",
       "1  0.940328  0.376137 -0.002721  1.744961  0.967531  0.002112  2.427545   \n",
       "2  1.586409  0.020695  0.003189  3.265674  0.026131  0.006421  4.928958   \n",
       "3  0.842338  0.068249 -0.002868  1.662480  0.213680 -0.003037  2.433715   \n",
       "4  0.802992  0.005840 -0.003018  1.379883  0.004998 -0.009236  1.819862   \n",
       "\n",
       "        y_2       z_2       x_3       y_3       z_3       x_4       y_4  \\\n",
       "0 -0.173210  0.001859  5.956124 -0.189409  0.001199  7.409612 -0.119771   \n",
       "1  1.724918 -0.006100  2.858968  2.547194 -0.004546  3.610086  3.474121   \n",
       "2  0.051335  0.008555  6.334205  0.063375  0.008981  7.776292  0.124555   \n",
       "3  0.503058 -0.009197  2.994887  0.799455 -0.011972  3.642280  1.385200   \n",
       "4  0.004130 -0.021761  2.129220  0.001999 -0.037602  2.054016  0.003514   \n",
       "\n",
       "        z_4       x_5       y_5       z_5  \n",
       "0 -0.003619  8.776987 -0.004878 -0.003271  \n",
       "1 -0.008055  4.328521  4.458796  0.007690  \n",
       "2  0.012671  8.963129  0.192424  0.012095  \n",
       "3 -0.014948  4.258598  2.030979 -0.015739  \n",
       "4 -0.053105  1.665828 -0.011998 -0.068486  "
      ]
     },
     "execution_count": 4,
     "metadata": {},
     "output_type": "execute_result"
    }
   ],
   "source": [
    "submission.to_csv('/Users/gouyashuto/localrepository/atmacup18/output/001_ensemble_submission.csv', index=False)\n",
    "submission.head()"
   ]
  },
  {
   "cell_type": "code",
   "execution_count": null,
   "metadata": {},
   "outputs": [],
   "source": []
  }
 ],
 "metadata": {
  "kernelspec": {
   "display_name": ".venv",
   "language": "python",
   "name": "python3"
  },
  "language_info": {
   "codemirror_mode": {
    "name": "ipython",
    "version": 3
   },
   "file_extension": ".py",
   "mimetype": "text/x-python",
   "name": "python",
   "nbconvert_exporter": "python",
   "pygments_lexer": "ipython3",
   "version": "3.10.14"
  }
 },
 "nbformat": 4,
 "nbformat_minor": 2
}
